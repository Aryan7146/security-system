{
 "cells": [
  {
   "cell_type": "code",
   "execution_count": 8,
   "metadata": {},
   "outputs": [],
   "source": [
    "alphabet = 'abcdefghijklmnopqrstuvwxyz'"
   ]
  },
  {
   "cell_type": "code",
   "execution_count": 9,
   "metadata": {},
   "outputs": [],
   "source": [
    "key = 4"
   ]
  },
  {
   "cell_type": "code",
   "execution_count": 10,
   "metadata": {},
   "outputs": [],
   "source": [
    "newmsg = ''"
   ]
  },
  {
   "cell_type": "code",
   "execution_count": 11,
   "metadata": {},
   "outputs": [
    {
     "name": "stdout",
     "output_type": "stream",
     "text": [
      "Enter the message codechamp\n"
     ]
    }
   ],
   "source": [
    "message = input('Enter the message ')"
   ]
  },
  {
   "cell_type": "code",
   "execution_count": 12,
   "metadata": {},
   "outputs": [
    {
     "name": "stdout",
     "output_type": "stream",
     "text": [
      "Encrypted new character is  g\n",
      "Encrypted new character is  s\n",
      "Encrypted new character is  h\n",
      "Encrypted new character is  i\n",
      "Encrypted new character is  g\n",
      "Encrypted new character is  l\n",
      "Encrypted new character is  e\n",
      "Encrypted new character is  q\n",
      "Encrypted new character is  t\n",
      "The encrypted final message is gshigleqt\n"
     ]
    }
   ],
   "source": [
    "for character in message:\n",
    "    position  = alphabet.find(character)\n",
    "    newposition = (position + key)%26\n",
    "    newchar = alphabet[newposition]\n",
    "    print('Encrypted new character is ',newchar)\n",
    "    newmsg += newchar\n",
    "print('The encrypted final message is', newmsg)    "
   ]
  },
  {
   "cell_type": "code",
   "execution_count": 13,
   "metadata": {},
   "outputs": [
    {
     "name": "stdout",
     "output_type": "stream",
     "text": [
      "Enter the message gshigleqt\n",
      "Decrypted new character is  c\n",
      "Decrypted new character is  o\n",
      "Decrypted new character is  d\n",
      "Decrypted new character is  e\n",
      "Decrypted new character is  c\n",
      "Decrypted new character is  h\n",
      "Decrypted new character is  a\n",
      "Decrypted new character is  m\n",
      "Decrypted new character is  p\n",
      "The decrypted final message is codechamp\n"
     ]
    }
   ],
   "source": [
    "newmsg1 = ''\n",
    "message = input('Enter the message ')\n",
    "for character in message:\n",
    "    position1  = alphabet.find(character)\n",
    "    newposition1 = (position1 - key)%26\n",
    "    newchar1 = alphabet[newposition1]\n",
    "    print('Decrypted new character is ',newchar1)\n",
    "    newmsg1 += newchar1\n",
    "print('The decrypted final message is', newmsg1)"
   ]
  }
 ],
 "metadata": {
  "kernelspec": {
   "display_name": "Python 3",
   "language": "python",
   "name": "python3"
  },
  "language_info": {
   "codemirror_mode": {
    "name": "ipython",
    "version": 3
   },
   "file_extension": ".py",
   "mimetype": "text/x-python",
   "name": "python",
   "nbconvert_exporter": "python",
   "pygments_lexer": "ipython3",
   "version": "3.7.3"
  }
 },
 "nbformat": 4,
 "nbformat_minor": 2
}
